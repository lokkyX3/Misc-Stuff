{
  "nbformat": 4,
  "nbformat_minor": 0,
  "metadata": {
    "colab": {
      "name": "pandas_optimization.ipynb",
      "provenance": [],
      "authorship_tag": "ABX9TyM5qtVrMwSAp4Y1c96djYFf",
      "include_colab_link": true
    },
    "kernelspec": {
      "name": "python3",
      "display_name": "Python 3"
    },
    "language_info": {
      "name": "python"
    }
  },
  "cells": [
    {
      "cell_type": "markdown",
      "metadata": {
        "id": "view-in-github",
        "colab_type": "text"
      },
      "source": [
        "<a href=\"https://colab.research.google.com/github/lokkyX3/Misc-Stuff/blob/main/pandas_optimization.ipynb\" target=\"_parent\"><img src=\"https://colab.research.google.com/assets/colab-badge.svg\" alt=\"Open In Colab\"/></a>"
      ]
    },
    {
      "cell_type": "code",
      "metadata": {
        "id": "65OntjOPukPQ"
      },
      "source": [
        "import numpy as np\n",
        "import pandas as pd\n",
        "\n",
        "# Define a basic Haversine distance formula\n",
        "def haversine(lat1, lon1, lat2, lon2):\n",
        "    MILES = 3959\n",
        "    lat1, lon1, lat2, lon2 = map(np.deg2rad, [lat1, lon1, lat2, lon2])\n",
        "    dlat = lat2 - lat1 \n",
        "    dlon = lon2 - lon1 \n",
        "    a = np.sin(dlat/2)**2 + np.cos(lat1) * np.cos(lat2) * np.sin(dlon/2)**2\n",
        "    c = 2 * np.arcsin(np.sqrt(a)) \n",
        "    total_miles = MILES * c\n",
        "    return total_miles"
      ],
      "execution_count": 5,
      "outputs": []
    },
    {
      "cell_type": "code",
      "metadata": {
        "id": "uWlzsZQwvJBr"
      },
      "source": [
        "df = pd.read_csv('https://raw.githubusercontent.com/s-heisler/pycon2017-optimizing-pandas/master/pyCon%20materials/new_york_hotels.csv',encoding='cp1252')"
      ],
      "execution_count": 12,
      "outputs": []
    },
    {
      "cell_type": "code",
      "metadata": {
        "id": "7S5h7SuGvmgV"
      },
      "source": [
        "df.head()"
      ],
      "execution_count": null,
      "outputs": []
    },
    {
      "cell_type": "code",
      "metadata": {
        "id": "HzupFBmgurb4"
      },
      "source": [
        "# Define a function to manually loop over all rows and return a series of distances\n",
        "def haversine_looping(df):\n",
        "    distance_list = []\n",
        "    for i in range(0, len(df)):\n",
        "        d = haversine(40.671, -73.985, df.iloc[i]['latitude'], df.iloc[i]['longitude'])\n",
        "        distance_list.append(d)\n",
        "    return distance_list"
      ],
      "execution_count": 2,
      "outputs": []
    },
    {
      "cell_type": "code",
      "metadata": {
        "colab": {
          "base_uri": "https://localhost:8080/"
        },
        "id": "syib-rCWustR",
        "outputId": "be078d8a-3bce-4320-9748-e44ad6b54fa2"
      },
      "source": [
        "%%timeit\n",
        "\n",
        "# Run the haversine looping function\n",
        "df['distance'] = haversine_looping(df)"
      ],
      "execution_count": 15,
      "outputs": [
        {
          "output_type": "stream",
          "text": [
            "1 loop, best of 5: 524 ms per loop\n"
          ],
          "name": "stdout"
        }
      ]
    },
    {
      "cell_type": "code",
      "metadata": {
        "colab": {
          "base_uri": "https://localhost:8080/"
        },
        "id": "Aq5tDEk8whqi",
        "outputId": "f6d75009-be65-4371-d057-17bce5e3ffad"
      },
      "source": [
        "%%timeit\n",
        "\n",
        "# Haversine applied on rows via iteration\n",
        "haversine_series = []\n",
        "for index, row in df.iterrows():\n",
        "    haversine_series.append(haversine(40.671, -73.985, row['latitude'], row['longitude']))\n",
        "df['distance'] = haversine_series"
      ],
      "execution_count": 17,
      "outputs": [
        {
          "output_type": "stream",
          "text": [
            "1 loop, best of 5: 221 ms per loop\n"
          ],
          "name": "stdout"
        }
      ]
    },
    {
      "cell_type": "code",
      "metadata": {
        "colab": {
          "base_uri": "https://localhost:8080/"
        },
        "id": "3NPfkH6vxVF-",
        "outputId": "f20f6a49-3411-40de-c9c2-c2ff20a87689"
      },
      "source": [
        "%%timeit\n",
        "\n",
        "# Timing apply on the Haversine function\n",
        "df['distance'] = df.apply(lambda row: haversine(40.671, -73.985, row['latitude'], row['longitude']), axis=1)\n"
      ],
      "execution_count": 18,
      "outputs": [
        {
          "output_type": "stream",
          "text": [
            "10 loops, best of 5: 56.5 ms per loop\n"
          ],
          "name": "stdout"
        }
      ]
    },
    {
      "cell_type": "code",
      "metadata": {
        "colab": {
          "base_uri": "https://localhost:8080/"
        },
        "id": "8oNGIAf63DVy",
        "outputId": "6bceb972-7b5b-4407-9cfe-59cf468528c5"
      },
      "source": [
        "%%timeit \n",
        "\n",
        "# Vectorized implementation of Haversine applied on Pandas series\n",
        "df['distance'] = haversine(40.671, -73.985, df['latitude'], df['longitude'])"
      ],
      "execution_count": 19,
      "outputs": [
        {
          "output_type": "stream",
          "text": [
            "The slowest run took 14.65 times longer than the fastest. This could mean that an intermediate result is being cached.\n",
            "100 loops, best of 5: 2.27 ms per loop\n"
          ],
          "name": "stdout"
        }
      ]
    },
    {
      "cell_type": "markdown",
      "metadata": {
        "id": "53DZtcOZ3pd4"
      },
      "source": [
        "# Takeaway\n",
        "\n",
        "This brings us to a few basic conclusions on optimizing Pandas code:\n",
        "1. Avoid loops; they’re slow and, in most common use cases, unnecessary.\n",
        "2. If you must loop, use apply(), not iteration functions.\n",
        "3. Vectorization is usually better than scalar operations. Most common operations in Pandas can be vectorized.\n",
        "4. Vector operations on NumPy arrays are more efficient than on native Pandas series.\n",
        "\n",
        "\n",
        "Source: https://engineering.upside.com/a-beginners-guide-to-optimizing-pandas-code-for-speed-c09ef2c6a4d6"
      ]
    }
  ]
}