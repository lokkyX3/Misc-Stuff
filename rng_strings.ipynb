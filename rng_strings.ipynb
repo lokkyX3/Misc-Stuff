{
  "nbformat": 4,
  "nbformat_minor": 0,
  "metadata": {
    "colab": {
      "name": "rng_strings.ipynb",
      "provenance": [],
      "collapsed_sections": [],
      "authorship_tag": "ABX9TyPNmnU6tdqiE+mgibGf5OoL",
      "include_colab_link": true
    },
    "kernelspec": {
      "name": "python3",
      "display_name": "Python 3"
    },
    "language_info": {
      "name": "python"
    }
  },
  "cells": [
    {
      "cell_type": "markdown",
      "metadata": {
        "id": "view-in-github",
        "colab_type": "text"
      },
      "source": [
        "<a href=\"https://colab.research.google.com/github/lokkyX3/Misc-Stuff/blob/main/rng_strings.ipynb\" target=\"_parent\"><img src=\"https://colab.research.google.com/assets/colab-badge.svg\" alt=\"Open In Colab\"/></a>"
      ]
    },
    {
      "cell_type": "markdown",
      "metadata": {
        "id": "tvqiYNeBnTuD"
      },
      "source": [
        "Write a program that will generate four (4) types of printable random objects and store them in a single file, each object will be separated by a \",\".  These are the 4 objects: alphabetical strings, real numbers, integers, alphanumerics. The alphanumerics should contain a random number of spaces before and after it (not exceeding 10 spaces). The output should be 10MB in size.\n"
      ]
    },
    {
      "cell_type": "markdown",
      "metadata": {
        "id": "BR77lGV5oGYF"
      },
      "source": [
        "Sample extracted output:\n",
        "\n",
        "hisadfnnasd, 126263, assfdgsga12348fas, 13123.123, \n",
        "lizierdjfklaasf, 123192u3kjwekhf, 89181811238,122, \n",
        "nmarcysfa900jkifh  , 3.781, 2.11, ...."
      ]
    },
    {
      "cell_type": "code",
      "metadata": {
        "id": "1MQ84t_5n5uh"
      },
      "source": [
        "import pandas as pd\n",
        "import random \n",
        "import string\n",
        "import os\n",
        "from pathlib import Path"
      ],
      "execution_count": null,
      "outputs": []
    },
    {
      "cell_type": "code",
      "metadata": {
        "id": "r2CxFIHDolo5"
      },
      "source": [
        "class rng():\n",
        "\n",
        "  FILE_NAME = 'rng_file.txt'\n",
        "  FILE_SIZE_LIMIT = 10485760\n",
        "\n",
        "  def __init__(self):\n",
        "    self.file_check()\n",
        "\n",
        "# Generate a random integer number\n",
        "  def int_rng(self):\n",
        "    integer = random.randint(0, 100000)\n",
        "    return integer\n",
        "\n",
        "# Generate a random float\n",
        "  def real_rng(self):\n",
        "    real = random.uniform(0, 100000)\n",
        "    return real\n",
        "\n",
        "# Generate a random alphabet strings\n",
        "  def string_rng(self):\n",
        "    MAX_LENGTH = random.randint(4, 10)\n",
        "    alpha = string.ascii_lowercase\n",
        "    return ''.join(random.choice(alpha) for i in range(MAX_LENGTH))\n",
        "\n",
        "# Generate a random alphanumerics and add random whitespace\n",
        "  def alphanumeric_rng(self):\n",
        "    MAX_LENGTH = random.randint(4, 10)\n",
        "    alpha_numer = string.hexdigits.lower()\n",
        "    alpha_numer = ''.join(random.choice(alpha_numer) for i in range(MAX_LENGTH))\n",
        "    i = random.randint(1, 5)\n",
        "    for x in range (i):\n",
        "      alpha_numer = '{}'.format(' ')+alpha_numer+'{}'.format(' ')\n",
        "    return alpha_numer\n",
        "\n",
        "# Choose which functions to run\n",
        "  def obj_generator(self):\n",
        "    RNG_FUNCTIONS = [\n",
        "                    self.string_rng(), \n",
        "                    self.alphanumeric_rng(), \n",
        "                    self.int_rng(), \n",
        "                    self.real_rng()]\n",
        "    return random.choice(RNG_FUNCTIONS)\n",
        "\n",
        "# Create new file and write data into file while filesize is < 10MB\n",
        "  def file_write(self, fileName):\n",
        "    open(fileName,'w')\n",
        "    fileSize = os.stat(fileName).st_size\n",
        "    with open(fileName,'w') as file:\n",
        "      while fileSize < self.FILE_SIZE_LIMIT:\n",
        "        file.write(str(self.obj_generator())+ ',')\n",
        "        fileSize = os.stat(fileName).st_size\n",
        "\n",
        "# Check for existing file. If exist, delete and create new\n",
        "  def file_check(self):\n",
        "    RNG_FILE = Path(self.FILE_NAME)\n",
        "    if RNG_FILE.exists():\n",
        "      try:\n",
        "        os.remove(RNG_FILE)\n",
        "        self.file_write(self.FILE_NAME)\n",
        "      except Exception as e:\n",
        "        print(e)\n",
        "    else:\n",
        "      self.file_write(self.FILE_NAME)"
      ],
      "execution_count": null,
      "outputs": []
    },
    {
      "cell_type": "markdown",
      "metadata": {
        "id": "RKatdmeOpEpv"
      },
      "source": [
        "Create a program that will read the generated file above and print to the console the object and its type. Spaces before and after the alphanumeric object must be stripped."
      ]
    },
    {
      "cell_type": "markdown",
      "metadata": {
        "id": "wZql3TpdpNGK"
      },
      "source": [
        "Sample output:\n",
        "\n",
        "youruasdifafasd - alphabetical strings\n",
        "\n",
        "127371237 - integer\n",
        "\n",
        "asdfka12348fas - alphanumeric\n",
        "\n",
        "13123.123 - real numbers\n",
        "\n",
        "asjdfklasdjfklaasf - alphabetical strings\n",
        "\n",
        "123192u3kjwekhf - alphanumeric"
      ]
    },
    {
      "cell_type": "code",
      "metadata": {
        "id": "LHm1dUA6pS_p"
      },
      "source": [
        "#Reading the text file that we generated previously\n",
        "with open('rng_file.txt', 'r') as f:\n",
        "  for line in f:\n",
        "      x = line.split(',')"
      ],
      "execution_count": null,
      "outputs": []
    },
    {
      "cell_type": "code",
      "metadata": {
        "id": "zaT8SyeYpjgE"
      },
      "source": [
        "df = pd.DataFrame(x)\n",
        "\n",
        "# Remove leading and trailing whitespace\n",
        "df = df[0].str.strip()\n",
        "df = df.to_frame()\n",
        "df = df[:-1]\n",
        "df.rename(columns={0:'Data'}, inplace=True)"
      ],
      "execution_count": null,
      "outputs": []
    },
    {
      "cell_type": "code",
      "metadata": {
        "id": "cFVeyx_fp3FV"
      },
      "source": [
        "# Identify type of data\n",
        "def what_type(x):\n",
        "    if str(x).isdigit():\n",
        "      return 'Integer'\n",
        "    elif str(x).isalpha():\n",
        "      return 'Alphabetical strings'\n",
        "    elif str(x).isalnum():\n",
        "      return 'AlphaNumeric'\n",
        "    elif float(x):\n",
        "      return 'Real numbers'\n",
        "    else:\n",
        "      return 'Null'"
      ],
      "execution_count": null,
      "outputs": []
    },
    {
      "cell_type": "code",
      "metadata": {
        "id": "VPX4Zp63qC05"
      },
      "source": [
        "df['Type'] = df['Data'].apply(what_type)"
      ],
      "execution_count": null,
      "outputs": []
    },
    {
      "cell_type": "code",
      "metadata": {
        "id": "eQuEgrPC37-I",
        "colab": {
          "base_uri": "https://localhost:8080/"
        },
        "outputId": "31bea193-a636-43e8-f662-f1a8132818f0"
      },
      "source": [
        "print(df)"
      ],
      "execution_count": null,
      "outputs": [
        {
          "output_type": "stream",
          "text": [
            "             Data                  Type\n",
            "0           13887               Integer\n",
            "1       znqdxgxbz  Alphabetical strings\n",
            "2       f10f444cb          AlphaNumeric\n",
            "3        cd4b09f5          AlphaNumeric\n",
            "4        xksxuypu  Alphabetical strings\n",
            "...           ...                   ...\n",
            "910651     c9de3e          AlphaNumeric\n",
            "910652    4bba879          AlphaNumeric\n",
            "910653       7483               Integer\n",
            "910654    xetaxov  Alphabetical strings\n",
            "910655    2245800               Integer\n",
            "\n",
            "[910656 rows x 2 columns]\n"
          ],
          "name": "stdout"
        }
      ]
    }
  ]
}